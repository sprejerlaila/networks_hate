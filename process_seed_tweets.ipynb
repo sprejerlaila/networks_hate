{
 "cells": [
  {
   "cell_type": "markdown",
   "metadata": {},
   "source": [
    "*Combine seed tweets with perspective scores and rt count*"
   ]
  },
  {
   "cell_type": "code",
   "execution_count": 1,
   "metadata": {},
   "outputs": [],
   "source": [
    "import os\n",
    "import pandas as pd"
   ]
  },
  {
   "cell_type": "code",
   "execution_count": 2,
   "metadata": {},
   "outputs": [],
   "source": [
    "perspective_files = os.listdir('perspective/processed/')\n",
    "perspective_files.remove('.DS_Store')"
   ]
  },
  {
   "cell_type": "code",
   "execution_count": 3,
   "metadata": {},
   "outputs": [
    {
     "data": {
      "text/plain": [
       "12159"
      ]
     },
     "execution_count": 3,
     "metadata": {},
     "output_type": "execute_result"
    }
   ],
   "source": [
    "scores = []\n",
    "for file in perspective_files:\n",
    "    scores.append(pd.read_csv('perspective/processed/'+file))\n",
    "    \n",
    "scores = pd.concat(scores).drop_duplicates('id').reset_index(drop=True)\n",
    "len(scores)"
   ]
  },
  {
   "cell_type": "code",
   "execution_count": 4,
   "metadata": {},
   "outputs": [],
   "source": [
    "tweets_files = os.listdir('data/processed/seed_tweets')\n",
    "tweets_files.remove('.DS_Store')"
   ]
  },
  {
   "cell_type": "code",
   "execution_count": 5,
   "metadata": {},
   "outputs": [
    {
     "data": {
      "text/plain": [
       "12159"
      ]
     },
     "execution_count": 5,
     "metadata": {},
     "output_type": "execute_result"
    }
   ],
   "source": [
    "seed_tweets = []\n",
    "for file in tweets_files:\n",
    "    seed_tweets.append(pd.read_csv('data/processed/seed_tweets/'+file))\n",
    "    \n",
    "seed_tweets = pd.concat(seed_tweets).drop_duplicates('id').reset_index(drop=True)\n",
    "len(seed_tweets)"
   ]
  },
  {
   "cell_type": "code",
   "execution_count": null,
   "metadata": {},
   "outputs": [],
   "source": [
    "#seed_tweets[~seed_tweets.id.isin(scores.idx)].to_csv('missing_scores_perspective.csv',index=False)"
   ]
  },
  {
   "cell_type": "code",
   "execution_count": 7,
   "metadata": {},
   "outputs": [
    {
     "data": {
      "text/html": [
       "<div>\n",
       "<style scoped>\n",
       "    .dataframe tbody tr th:only-of-type {\n",
       "        vertical-align: middle;\n",
       "    }\n",
       "\n",
       "    .dataframe tbody tr th {\n",
       "        vertical-align: top;\n",
       "    }\n",
       "\n",
       "    .dataframe thead th {\n",
       "        text-align: right;\n",
       "    }\n",
       "</style>\n",
       "<table border=\"1\" class=\"dataframe\">\n",
       "  <thead>\n",
       "    <tr style=\"text-align: right;\">\n",
       "      <th></th>\n",
       "      <th>TOXICITY</th>\n",
       "      <th>SEVERE_TOXICITY</th>\n",
       "      <th>IDENTITY_ATTACK</th>\n",
       "      <th>INSULT</th>\n",
       "      <th>PROFANITY</th>\n",
       "      <th>SEXUALLY_EXPLICIT</th>\n",
       "      <th>THREAT</th>\n",
       "      <th>FLIRTATION</th>\n",
       "      <th>ATTACK_ON_AUTHOR</th>\n",
       "      <th>ATTACK_ON_COMMENTER</th>\n",
       "      <th>INCOHERENT</th>\n",
       "      <th>INFLAMMATORY</th>\n",
       "      <th>LIKELY_TO_REJECT</th>\n",
       "      <th>OBSCENE</th>\n",
       "      <th>SPAM</th>\n",
       "      <th>UNSUBSTANTIAL</th>\n",
       "      <th>id</th>\n",
       "    </tr>\n",
       "  </thead>\n",
       "  <tbody>\n",
       "    <tr>\n",
       "      <th>0</th>\n",
       "      <td>0.080124</td>\n",
       "      <td>0.049021</td>\n",
       "      <td>0.102999</td>\n",
       "      <td>0.046171</td>\n",
       "      <td>0.056571</td>\n",
       "      <td>0.114028</td>\n",
       "      <td>0.373874</td>\n",
       "      <td>0.319785</td>\n",
       "      <td>0.004876</td>\n",
       "      <td>0.036226</td>\n",
       "      <td>0.696336</td>\n",
       "      <td>0.027067</td>\n",
       "      <td>0.653939</td>\n",
       "      <td>0.016055</td>\n",
       "      <td>0.936072</td>\n",
       "      <td>0.389155</td>\n",
       "      <td>id_1297324263834357760</td>\n",
       "    </tr>\n",
       "    <tr>\n",
       "      <th>1</th>\n",
       "      <td>0.099685</td>\n",
       "      <td>0.032998</td>\n",
       "      <td>0.042040</td>\n",
       "      <td>0.099741</td>\n",
       "      <td>0.050562</td>\n",
       "      <td>0.041229</td>\n",
       "      <td>0.092885</td>\n",
       "      <td>0.093073</td>\n",
       "      <td>0.222980</td>\n",
       "      <td>0.263313</td>\n",
       "      <td>0.455719</td>\n",
       "      <td>0.424939</td>\n",
       "      <td>0.234779</td>\n",
       "      <td>0.071644</td>\n",
       "      <td>0.043177</td>\n",
       "      <td>0.779730</td>\n",
       "      <td>id_1297326327079600129</td>\n",
       "    </tr>\n",
       "    <tr>\n",
       "      <th>2</th>\n",
       "      <td>0.183945</td>\n",
       "      <td>0.032857</td>\n",
       "      <td>0.096355</td>\n",
       "      <td>0.114652</td>\n",
       "      <td>0.085983</td>\n",
       "      <td>0.128627</td>\n",
       "      <td>0.085204</td>\n",
       "      <td>0.305911</td>\n",
       "      <td>0.152013</td>\n",
       "      <td>0.189293</td>\n",
       "      <td>0.537730</td>\n",
       "      <td>0.349895</td>\n",
       "      <td>0.314664</td>\n",
       "      <td>0.124938</td>\n",
       "      <td>0.134135</td>\n",
       "      <td>0.778563</td>\n",
       "      <td>id_1297329277348839424</td>\n",
       "    </tr>\n",
       "    <tr>\n",
       "      <th>3</th>\n",
       "      <td>0.439848</td>\n",
       "      <td>0.216092</td>\n",
       "      <td>0.271077</td>\n",
       "      <td>0.368546</td>\n",
       "      <td>0.265282</td>\n",
       "      <td>0.208238</td>\n",
       "      <td>0.584913</td>\n",
       "      <td>0.342048</td>\n",
       "      <td>0.834105</td>\n",
       "      <td>0.020448</td>\n",
       "      <td>0.647839</td>\n",
       "      <td>0.788281</td>\n",
       "      <td>0.716906</td>\n",
       "      <td>0.068637</td>\n",
       "      <td>0.019818</td>\n",
       "      <td>0.580261</td>\n",
       "      <td>id_1297335695132958720</td>\n",
       "    </tr>\n",
       "    <tr>\n",
       "      <th>4</th>\n",
       "      <td>0.805183</td>\n",
       "      <td>0.484504</td>\n",
       "      <td>0.469085</td>\n",
       "      <td>0.875402</td>\n",
       "      <td>0.649270</td>\n",
       "      <td>0.060277</td>\n",
       "      <td>0.218490</td>\n",
       "      <td>0.109615</td>\n",
       "      <td>0.769045</td>\n",
       "      <td>0.911894</td>\n",
       "      <td>0.242709</td>\n",
       "      <td>0.743190</td>\n",
       "      <td>0.601544</td>\n",
       "      <td>0.027811</td>\n",
       "      <td>0.008582</td>\n",
       "      <td>0.527302</td>\n",
       "      <td>id_1297338514057695233</td>\n",
       "    </tr>\n",
       "  </tbody>\n",
       "</table>\n",
       "</div>"
      ],
      "text/plain": [
       "   TOXICITY  SEVERE_TOXICITY  IDENTITY_ATTACK    INSULT  PROFANITY  \\\n",
       "0  0.080124         0.049021         0.102999  0.046171   0.056571   \n",
       "1  0.099685         0.032998         0.042040  0.099741   0.050562   \n",
       "2  0.183945         0.032857         0.096355  0.114652   0.085983   \n",
       "3  0.439848         0.216092         0.271077  0.368546   0.265282   \n",
       "4  0.805183         0.484504         0.469085  0.875402   0.649270   \n",
       "\n",
       "   SEXUALLY_EXPLICIT    THREAT  FLIRTATION  ATTACK_ON_AUTHOR  \\\n",
       "0           0.114028  0.373874    0.319785          0.004876   \n",
       "1           0.041229  0.092885    0.093073          0.222980   \n",
       "2           0.128627  0.085204    0.305911          0.152013   \n",
       "3           0.208238  0.584913    0.342048          0.834105   \n",
       "4           0.060277  0.218490    0.109615          0.769045   \n",
       "\n",
       "   ATTACK_ON_COMMENTER  INCOHERENT  INFLAMMATORY  LIKELY_TO_REJECT   OBSCENE  \\\n",
       "0             0.036226    0.696336      0.027067          0.653939  0.016055   \n",
       "1             0.263313    0.455719      0.424939          0.234779  0.071644   \n",
       "2             0.189293    0.537730      0.349895          0.314664  0.124938   \n",
       "3             0.020448    0.647839      0.788281          0.716906  0.068637   \n",
       "4             0.911894    0.242709      0.743190          0.601544  0.027811   \n",
       "\n",
       "       SPAM  UNSUBSTANTIAL                      id  \n",
       "0  0.936072       0.389155  id_1297324263834357760  \n",
       "1  0.043177       0.779730  id_1297326327079600129  \n",
       "2  0.134135       0.778563  id_1297329277348839424  \n",
       "3  0.019818       0.580261  id_1297335695132958720  \n",
       "4  0.008582       0.527302  id_1297338514057695233  "
      ]
     },
     "execution_count": 7,
     "metadata": {},
     "output_type": "execute_result"
    }
   ],
   "source": [
    "scores.head()"
   ]
  },
  {
   "cell_type": "code",
   "execution_count": 8,
   "metadata": {},
   "outputs": [
    {
     "data": {
      "text/plain": [
       "12159"
      ]
     },
     "execution_count": 8,
     "metadata": {},
     "output_type": "execute_result"
    }
   ],
   "source": [
    "seed_tweets = seed_tweets.merge(scores[['id','TOXICITY']], how='left'); len(seed_tweets)"
   ]
  },
  {
   "cell_type": "code",
   "execution_count": 32,
   "metadata": {},
   "outputs": [],
   "source": [
    "files = os.listdir('data/processed/seed_retweets/')\n",
    "files.remove('.DS_Store')"
   ]
  },
  {
   "cell_type": "code",
   "execution_count": 56,
   "metadata": {},
   "outputs": [
    {
     "name": "stderr",
     "output_type": "stream",
     "text": [
      "/Users/lsprejer/opt/anaconda3/lib/python3.8/site-packages/IPython/core/interactiveshell.py:3145: DtypeWarning: Columns (13,14,18) have mixed types.Specify dtype option on import or set low_memory=False.\n",
      "  has_raised = await self.run_ast_nodes(code_ast.body, cell_name,\n",
      "/Users/lsprejer/opt/anaconda3/lib/python3.8/site-packages/IPython/core/interactiveshell.py:3145: DtypeWarning: Columns (13,14,15) have mixed types.Specify dtype option on import or set low_memory=False.\n",
      "  has_raised = await self.run_ast_nodes(code_ast.body, cell_name,\n",
      "/Users/lsprejer/opt/anaconda3/lib/python3.8/site-packages/IPython/core/interactiveshell.py:3145: DtypeWarning: Columns (7,8) have mixed types.Specify dtype option on import or set low_memory=False.\n",
      "  has_raised = await self.run_ast_nodes(code_ast.body, cell_name,\n",
      "/Users/lsprejer/opt/anaconda3/lib/python3.8/site-packages/IPython/core/interactiveshell.py:3145: DtypeWarning: Columns (18) have mixed types.Specify dtype option on import or set low_memory=False.\n",
      "  has_raised = await self.run_ast_nodes(code_ast.body, cell_name,\n"
     ]
    }
   ],
   "source": [
    "counts = []\n",
    "for file in files:\n",
    "    df = pd.read_csv('data/processed/seed_retweets/' + file).drop_duplicates('id')\n",
    "    counts.append(df.rt_from_id.value_counts().reset_index())\n",
    "\n",
    "counts = pd.concat(counts)"
   ]
  },
  {
   "cell_type": "code",
   "execution_count": 57,
   "metadata": {},
   "outputs": [],
   "source": [
    "counts.columns = ['id', 'counts']\n",
    "counts = counts.groupby('id')['counts'].sum().reset_index()"
   ]
  },
  {
   "cell_type": "code",
   "execution_count": 52,
   "metadata": {},
   "outputs": [
    {
     "data": {
      "text/html": [
       "<div>\n",
       "<style scoped>\n",
       "    .dataframe tbody tr th:only-of-type {\n",
       "        vertical-align: middle;\n",
       "    }\n",
       "\n",
       "    .dataframe tbody tr th {\n",
       "        vertical-align: top;\n",
       "    }\n",
       "\n",
       "    .dataframe thead th {\n",
       "        text-align: right;\n",
       "    }\n",
       "</style>\n",
       "<table border=\"1\" class=\"dataframe\">\n",
       "  <thead>\n",
       "    <tr style=\"text-align: right;\">\n",
       "      <th></th>\n",
       "      <th>id</th>\n",
       "      <th>screen_name</th>\n",
       "      <th>user_id</th>\n",
       "      <th>text</th>\n",
       "      <th>rt_from_screen_name</th>\n",
       "      <th>rt_from_user_id</th>\n",
       "      <th>rt_from_id</th>\n",
       "      <th>qt_from_screen_name</th>\n",
       "      <th>qt_status</th>\n",
       "      <th>in_reply_to_screen_name</th>\n",
       "      <th>...</th>\n",
       "      <th>datetime</th>\n",
       "      <th>rt_type</th>\n",
       "      <th>url</th>\n",
       "      <th>trunc_url</th>\n",
       "      <th>hashtags</th>\n",
       "      <th>photos</th>\n",
       "      <th>videos</th>\n",
       "      <th>gifs</th>\n",
       "      <th>TOXICITY</th>\n",
       "      <th>counts</th>\n",
       "    </tr>\n",
       "  </thead>\n",
       "  <tbody>\n",
       "    <tr>\n",
       "      <th>0</th>\n",
       "      <td>id_1283193325323988993</td>\n",
       "      <td>PrisonPlanet</td>\n",
       "      <td>18643437</td>\n",
       "      <td>A pub landlord in the UK has installed an elec...</td>\n",
       "      <td>NaN</td>\n",
       "      <td>NaN</td>\n",
       "      <td>NaN</td>\n",
       "      <td>NaN</td>\n",
       "      <td>NaN</td>\n",
       "      <td>NaN</td>\n",
       "      <td>...</td>\n",
       "      <td>2020-07-15 00:15:03</td>\n",
       "      <td>NaN</td>\n",
       "      <td>https://summit.news/2020/07/15/pub-landlord-in...</td>\n",
       "      <td>summit.news</td>\n",
       "      <td></td>\n",
       "      <td></td>\n",
       "      <td></td>\n",
       "      <td></td>\n",
       "      <td>0.338564</td>\n",
       "      <td>140.0</td>\n",
       "    </tr>\n",
       "    <tr>\n",
       "      <th>1</th>\n",
       "      <td>id_1283194363728797701</td>\n",
       "      <td>politicalite</td>\n",
       "      <td>306610942</td>\n",
       "      <td>HELP US STAY ONLINE: Support News That Support...</td>\n",
       "      <td>NaN</td>\n",
       "      <td>NaN</td>\n",
       "      <td>NaN</td>\n",
       "      <td>NaN</td>\n",
       "      <td>NaN</td>\n",
       "      <td>NaN</td>\n",
       "      <td>...</td>\n",
       "      <td>2020-07-15 00:19:11</td>\n",
       "      <td>NaN</td>\n",
       "      <td>https://www.politicalite.com/support-news-that...</td>\n",
       "      <td>politicalite.com</td>\n",
       "      <td></td>\n",
       "      <td></td>\n",
       "      <td></td>\n",
       "      <td></td>\n",
       "      <td>0.068272</td>\n",
       "      <td>3.0</td>\n",
       "    </tr>\n",
       "    <tr>\n",
       "      <th>2</th>\n",
       "      <td>id_1283194689999572998</td>\n",
       "      <td>PrisonPlanet</td>\n",
       "      <td>18643437</td>\n",
       "      <td>Anyone else notice that post-corona, the cashl...</td>\n",
       "      <td>NaN</td>\n",
       "      <td>NaN</td>\n",
       "      <td>NaN</td>\n",
       "      <td>NaN</td>\n",
       "      <td>NaN</td>\n",
       "      <td>NaN</td>\n",
       "      <td>...</td>\n",
       "      <td>2020-07-15 00:20:29</td>\n",
       "      <td>NaN</td>\n",
       "      <td></td>\n",
       "      <td></td>\n",
       "      <td></td>\n",
       "      <td></td>\n",
       "      <td></td>\n",
       "      <td></td>\n",
       "      <td>0.129195</td>\n",
       "      <td>4113.0</td>\n",
       "    </tr>\n",
       "    <tr>\n",
       "      <th>3</th>\n",
       "      <td>id_1283205526227222529</td>\n",
       "      <td>PrisonPlanet</td>\n",
       "      <td>18643437</td>\n",
       "      <td>Black Lives Matter protesters invaded a restau...</td>\n",
       "      <td>NaN</td>\n",
       "      <td>NaN</td>\n",
       "      <td>NaN</td>\n",
       "      <td>NaN</td>\n",
       "      <td>NaN</td>\n",
       "      <td>NaN</td>\n",
       "      <td>...</td>\n",
       "      <td>2020-07-15 01:03:32</td>\n",
       "      <td>NaN</td>\n",
       "      <td>https://summit.news/2020/07/15/black-lives-mat...</td>\n",
       "      <td>summit.news</td>\n",
       "      <td></td>\n",
       "      <td></td>\n",
       "      <td></td>\n",
       "      <td></td>\n",
       "      <td>0.609851</td>\n",
       "      <td>1015.0</td>\n",
       "    </tr>\n",
       "    <tr>\n",
       "      <th>4</th>\n",
       "      <td>id_1283241036521730050</td>\n",
       "      <td>charliekirk11</td>\n",
       "      <td>292929271</td>\n",
       "      <td>Hillary Clinton today:\\n\\n“Teachers shouldn’t ...</td>\n",
       "      <td>NaN</td>\n",
       "      <td>NaN</td>\n",
       "      <td>NaN</td>\n",
       "      <td>NaN</td>\n",
       "      <td>NaN</td>\n",
       "      <td>NaN</td>\n",
       "      <td>...</td>\n",
       "      <td>2020-07-15 03:24:39</td>\n",
       "      <td>NaN</td>\n",
       "      <td></td>\n",
       "      <td></td>\n",
       "      <td></td>\n",
       "      <td></td>\n",
       "      <td></td>\n",
       "      <td></td>\n",
       "      <td>0.358540</td>\n",
       "      <td>10526.0</td>\n",
       "    </tr>\n",
       "  </tbody>\n",
       "</table>\n",
       "<p>5 rows × 22 columns</p>\n",
       "</div>"
      ],
      "text/plain": [
       "                       id    screen_name    user_id  \\\n",
       "0  id_1283193325323988993   PrisonPlanet   18643437   \n",
       "1  id_1283194363728797701   politicalite  306610942   \n",
       "2  id_1283194689999572998   PrisonPlanet   18643437   \n",
       "3  id_1283205526227222529   PrisonPlanet   18643437   \n",
       "4  id_1283241036521730050  charliekirk11  292929271   \n",
       "\n",
       "                                                text  rt_from_screen_name  \\\n",
       "0  A pub landlord in the UK has installed an elec...                  NaN   \n",
       "1  HELP US STAY ONLINE: Support News That Support...                  NaN   \n",
       "2  Anyone else notice that post-corona, the cashl...                  NaN   \n",
       "3  Black Lives Matter protesters invaded a restau...                  NaN   \n",
       "4  Hillary Clinton today:\\n\\n“Teachers shouldn’t ...                  NaN   \n",
       "\n",
       "   rt_from_user_id  rt_from_id  qt_from_screen_name  qt_status  \\\n",
       "0              NaN         NaN                  NaN        NaN   \n",
       "1              NaN         NaN                  NaN        NaN   \n",
       "2              NaN         NaN                  NaN        NaN   \n",
       "3              NaN         NaN                  NaN        NaN   \n",
       "4              NaN         NaN                  NaN        NaN   \n",
       "\n",
       "   in_reply_to_screen_name  ...             datetime rt_type  \\\n",
       "0                      NaN  ...  2020-07-15 00:15:03     NaN   \n",
       "1                      NaN  ...  2020-07-15 00:19:11     NaN   \n",
       "2                      NaN  ...  2020-07-15 00:20:29     NaN   \n",
       "3                      NaN  ...  2020-07-15 01:03:32     NaN   \n",
       "4                      NaN  ...  2020-07-15 03:24:39     NaN   \n",
       "\n",
       "                                                 url         trunc_url  \\\n",
       "0  https://summit.news/2020/07/15/pub-landlord-in...       summit.news   \n",
       "1  https://www.politicalite.com/support-news-that...  politicalite.com   \n",
       "2                                                                        \n",
       "3  https://summit.news/2020/07/15/black-lives-mat...       summit.news   \n",
       "4                                                                        \n",
       "\n",
       "  hashtags photos videos gifs  TOXICITY   counts  \n",
       "0                              0.338564    140.0  \n",
       "1                              0.068272      3.0  \n",
       "2                              0.129195   4113.0  \n",
       "3                              0.609851   1015.0  \n",
       "4                              0.358540  10526.0  \n",
       "\n",
       "[5 rows x 22 columns]"
      ]
     },
     "execution_count": 52,
     "metadata": {},
     "output_type": "execute_result"
    }
   ],
   "source": [
    "seed_tweets.head()"
   ]
  },
  {
   "cell_type": "code",
   "execution_count": 58,
   "metadata": {},
   "outputs": [],
   "source": [
    "seed_tweets = seed_tweets.drop('counts',axis=1).merge(counts, on='id', how='left')"
   ]
  },
  {
   "cell_type": "code",
   "execution_count": 60,
   "metadata": {},
   "outputs": [],
   "source": [
    "seed_tweets.counts.fillna(0, inplace=True)"
   ]
  },
  {
   "cell_type": "code",
   "execution_count": 61,
   "metadata": {},
   "outputs": [],
   "source": [
    "seed_tweets.to_csv('all_seed_tweets_with_scores.csv', index=False)"
   ]
  },
  {
   "cell_type": "code",
   "execution_count": 47,
   "metadata": {},
   "outputs": [
    {
     "data": {
      "text/plain": [
       "array(['PrisonPlanet', 'politicalite', 'charliekirk11', 'DVATW',\n",
       "       'Michael_Heaver', 'WestmonsterUK', 'TradBritGroup',\n",
       "       'LeaveEUOfficial', 'Nigel_Farage', 'NickGriffinBU',\n",
       "       'BreitbartLondon', 'TPointUK', 'CountDankulaTV', 'thisislaurat',\n",
       "       'blaiklockBP', 'JamesDelingpole', 'PamelaGeller', 'RealCandaceO',\n",
       "       'AltNewsMedia', 'LivesMorgoth', 'MarkACollett', 'LanaLokteff',\n",
       "       'Henrik_Palmgren', 'redicetv', 'jollyheretic', 'PoliticalIslam',\n",
       "       'TheGloriousLion', 'UKIP', 'brexitparty_uk', 'GerardBattenUK',\n",
       "       'ArktosMedia', 'anti_fembot', 'bnp', 'Arron_banks'], dtype=object)"
      ]
     },
     "execution_count": 47,
     "metadata": {},
     "output_type": "execute_result"
    }
   ],
   "source": [
    "seed_tweets.screen_name.unique()"
   ]
  },
  {
   "cell_type": "code",
   "execution_count": 48,
   "metadata": {},
   "outputs": [
    {
     "data": {
      "text/plain": [
       "array(['Eastern Carolina University\\'s leadership endorses a massive \"protest\" while kicking students out of dorms and moving almost all classes online.\\n\\nThis is the ruling class Joe Biden represents. Rules are for little people and they believe do not apply to them. https://t.co/MBB0PsgPbT'],\n",
       "      dtype=object)"
      ]
     },
     "execution_count": 48,
     "metadata": {},
     "output_type": "execute_result"
    }
   ],
   "source": [
    "seed_tweets[(seed_tweets.counts == 0) & (seed_tweets.screen_name == 'charliekirk11')].text.values"
   ]
  }
 ],
 "metadata": {
  "kernelspec": {
   "display_name": "Python 3",
   "language": "python",
   "name": "python3"
  },
  "language_info": {
   "codemirror_mode": {
    "name": "ipython",
    "version": 3
   },
   "file_extension": ".py",
   "mimetype": "text/x-python",
   "name": "python",
   "nbconvert_exporter": "python",
   "pygments_lexer": "ipython3",
   "version": "3.8.3"
  }
 },
 "nbformat": 4,
 "nbformat_minor": 4
}
