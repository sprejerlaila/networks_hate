{
 "cells": [
  {
   "cell_type": "markdown",
   "metadata": {},
   "source": [
    "# Comparing streaming vs rest from 10/05 to 16/05"
   ]
  },
  {
   "cell_type": "markdown",
   "metadata": {},
   "source": [
    "## Load and tidy data"
   ]
  },
  {
   "cell_type": "code",
   "execution_count": 2,
   "metadata": {},
   "outputs": [],
   "source": [
    "import tweepy\n",
    "import sys\n",
    "import json\n",
    "import time\n",
    "import pandas as pd\n",
    "import requests\n",
    "from requests_oauthlib import OAuth1\n",
    "import datetime as dt\n",
    "import importlib\n",
    "import matplotlib.pyplot as plt\n",
    "\n",
    "import process_tweets\n",
    "import get_rest_tweets"
   ]
  },
  {
   "cell_type": "code",
   "execution_count": 3,
   "metadata": {},
   "outputs": [],
   "source": [
    "users = pd.read_csv('data/seed_users.csv').screen_name.values"
   ]
  },
  {
   "cell_type": "code",
   "execution_count": 4,
   "metadata": {},
   "outputs": [],
   "source": [
    "stream_list = []\n",
    "for i in range(10,17):\n",
    "    with open('data/raw/seed_tweets/stream_tweets_2005%i.json'%i) as json_data:\n",
    "        stream = json_data.readlines()\n",
    "        stream = process_tweets.tidy_tweets(stream)\n",
    "        stream_list.append(stream)\n",
    "        \n",
    "stream = pd.concat(stream_list).reset_index(drop=True)"
   ]
  },
  {
   "cell_type": "code",
   "execution_count": 5,
   "metadata": {},
   "outputs": [],
   "source": [
    "rest_list = []\n",
    "for i in range(10,17):\n",
    "    with open('data/raw/seed_tweets/rest_tweets_2005%i.json'%i) as json_data:\n",
    "        rest = json_data.readlines()\n",
    "        rest = process_tweets.tidy_tweets(rest)\n",
    "        rest_list.append(rest)\n",
    "        \n",
    "rest = pd.concat(rest_list).reset_index(drop=True).drop_duplicates(\"id\")\n",
    "rest.datetime = pd.to_datetime(rest.datetime)"
   ]
  },
  {
   "cell_type": "code",
   "execution_count": 6,
   "metadata": {},
   "outputs": [],
   "source": [
    "for df in [stream,rest]:\n",
    "    df['seed_mentions']=df.mentions.apply(lambda x: [u for u in users if u in x])\n",
    "    df['seed_mentions']=df['seed_mentions'].apply(lambda x: x[0] if len(x)>0 else \"\")\n",
    "    df['seed_qt_mentions'] = df.qt_status.apply(lambda x: \"-\" if x is None else x)\n",
    "    df['seed_qt_mentions'] = df['seed_qt_mentions'].apply(lambda x: [u for u in users if u in x])\n",
    "    df['seed_qt_mentions'] = df['seed_qt_mentions'].apply(lambda x: x[0] if len(x) > 0 else \"\")\n",
    "\n",
    "    df.loc[(df['rt_from_screen_name'].isna()) & (df['qt_from_screen_name'].notna()), 'direct_qt'] = df['qt_from_screen_name']\n",
    "    df.loc[(df['rt_from_screen_name'].notna()) & (df['qt_from_screen_name'].notna()), 'rt_qt'] = df['qt_from_screen_name']\n",
    "    df.loc[~(df['rt_from_screen_name'].isin(users)) & ~(df['qt_from_screen_name'].isin(users)) & ~(df['in_reply_to_screen_name'].isin(users)), 'direct_mentions'] = df['seed_mentions']\n",
    "    df.loc[~(df['rt_from_screen_name'].isin(users)) & ~(df['qt_from_screen_name'].isin(users)) & ~(df['in_reply_to_screen_name'].isin(users)) & ~(df['direct_mentions'].isin(users)), 'direct_qt_mentions'] = df['seed_qt_mentions']"
   ]
  },
  {
   "cell_type": "code",
   "execution_count": 7,
   "metadata": {},
   "outputs": [
    {
     "name": "stdout",
     "output_type": "stream",
     "text": [
      "3820 3055\n"
     ]
    }
   ],
   "source": [
    "print(len(stream), len(rest))"
   ]
  },
  {
   "cell_type": "markdown",
   "metadata": {},
   "source": [
    "## ~15% missing tweets all retweets\n",
    "- Conection wasn't interrupted\n",
    "- Tried streaming both with tweepy and with direct requests, same results"
   ]
  },
  {
   "cell_type": "code",
   "execution_count": 8,
   "metadata": {},
   "outputs": [
    {
     "name": "stdout",
     "output_type": "stream",
     "text": [
      "564 3820 0.14764397905759163\n"
     ]
    }
   ],
   "source": [
    "# Number of tweets not captured by stream\n",
    "print(len(rest[~rest.id.isin(stream.id)]), len(stream), len(rest[~rest.id.isin(stream.id)])/len(stream))"
   ]
  },
  {
   "cell_type": "code",
   "execution_count": 9,
   "metadata": {},
   "outputs": [],
   "source": [
    "missing_tweets = rest[~rest.id.isin(stream.id)].reset_index(drop=True)\n",
    "missing_tweets['missing'] = \"missing\""
   ]
  },
  {
   "cell_type": "code",
   "execution_count": 10,
   "metadata": {},
   "outputs": [],
   "source": [
    "missing_count = missing_tweets[['screen_name','rt_from_screen_name','rt_qt','direct_qt','in_reply_to_screen_name','direct_mentions']]\\\n",
    "                .apply(pd.Series.value_counts)\\\n",
    "                .loc[['OhBrokenBritain','TradBritGroup','NeilUKIP']]\n",
    "missing_pct = missing_count.div(missing_count.sum(axis=1), axis=0)\n"
   ]
  },
  {
   "cell_type": "code",
   "execution_count": 11,
   "metadata": {},
   "outputs": [
    {
     "data": {
      "text/html": [
       "<div>\n",
       "<style scoped>\n",
       "    .dataframe tbody tr th:only-of-type {\n",
       "        vertical-align: middle;\n",
       "    }\n",
       "\n",
       "    .dataframe tbody tr th {\n",
       "        vertical-align: top;\n",
       "    }\n",
       "\n",
       "    .dataframe thead th {\n",
       "        text-align: right;\n",
       "    }\n",
       "</style>\n",
       "<table border=\"1\" class=\"dataframe\">\n",
       "  <thead>\n",
       "    <tr style=\"text-align: right;\">\n",
       "      <th></th>\n",
       "      <th>screen_name</th>\n",
       "      <th>rt_from_screen_name</th>\n",
       "      <th>rt_qt</th>\n",
       "      <th>direct_qt</th>\n",
       "      <th>in_reply_to_screen_name</th>\n",
       "      <th>direct_mentions</th>\n",
       "    </tr>\n",
       "  </thead>\n",
       "  <tbody>\n",
       "    <tr>\n",
       "      <th>OhBrokenBritain</th>\n",
       "      <td>NaN</td>\n",
       "      <td>424.0</td>\n",
       "      <td>NaN</td>\n",
       "      <td>NaN</td>\n",
       "      <td>NaN</td>\n",
       "      <td>NaN</td>\n",
       "    </tr>\n",
       "    <tr>\n",
       "      <th>TradBritGroup</th>\n",
       "      <td>NaN</td>\n",
       "      <td>16.0</td>\n",
       "      <td>NaN</td>\n",
       "      <td>NaN</td>\n",
       "      <td>NaN</td>\n",
       "      <td>NaN</td>\n",
       "    </tr>\n",
       "    <tr>\n",
       "      <th>NeilUKIP</th>\n",
       "      <td>NaN</td>\n",
       "      <td>124.0</td>\n",
       "      <td>NaN</td>\n",
       "      <td>NaN</td>\n",
       "      <td>NaN</td>\n",
       "      <td>NaN</td>\n",
       "    </tr>\n",
       "  </tbody>\n",
       "</table>\n",
       "</div>"
      ],
      "text/plain": [
       "                 screen_name  rt_from_screen_name  rt_qt  direct_qt  \\\n",
       "OhBrokenBritain          NaN                424.0    NaN        NaN   \n",
       "TradBritGroup            NaN                 16.0    NaN        NaN   \n",
       "NeilUKIP                 NaN                124.0    NaN        NaN   \n",
       "\n",
       "                 in_reply_to_screen_name  direct_mentions  \n",
       "OhBrokenBritain                      NaN              NaN  \n",
       "TradBritGroup                        NaN              NaN  \n",
       "NeilUKIP                             NaN              NaN  "
      ]
     },
     "execution_count": 11,
     "metadata": {},
     "output_type": "execute_result"
    }
   ],
   "source": [
    "missing_count"
   ]
  },
  {
   "cell_type": "code",
   "execution_count": 13,
   "metadata": {},
   "outputs": [],
   "source": [
    "stream_count = stream[['screen_name','rt_from_screen_name','rt_qt','direct_qt','in_reply_to_screen_name','direct_mentions']]\\\n",
    "                .apply(pd.Series.value_counts)\\\n",
    "                .loc[['OhBrokenBritain','TradBritGroup','NeilUKIP']]"
   ]
  },
  {
   "cell_type": "code",
   "execution_count": 14,
   "metadata": {},
   "outputs": [
    {
     "data": {
      "text/html": [
       "<div>\n",
       "<style scoped>\n",
       "    .dataframe tbody tr th:only-of-type {\n",
       "        vertical-align: middle;\n",
       "    }\n",
       "\n",
       "    .dataframe tbody tr th {\n",
       "        vertical-align: top;\n",
       "    }\n",
       "\n",
       "    .dataframe thead th {\n",
       "        text-align: right;\n",
       "    }\n",
       "</style>\n",
       "<table border=\"1\" class=\"dataframe\">\n",
       "  <thead>\n",
       "    <tr style=\"text-align: right;\">\n",
       "      <th></th>\n",
       "      <th>screen_name</th>\n",
       "      <th>rt_from_screen_name</th>\n",
       "      <th>rt_qt</th>\n",
       "      <th>direct_qt</th>\n",
       "      <th>in_reply_to_screen_name</th>\n",
       "      <th>direct_mentions</th>\n",
       "    </tr>\n",
       "  </thead>\n",
       "  <tbody>\n",
       "    <tr>\n",
       "      <th>OhBrokenBritain</th>\n",
       "      <td>76.0</td>\n",
       "      <td>1313.0</td>\n",
       "      <td>25.0</td>\n",
       "      <td>7.0</td>\n",
       "      <td>289.0</td>\n",
       "      <td>262.0</td>\n",
       "    </tr>\n",
       "    <tr>\n",
       "      <th>TradBritGroup</th>\n",
       "      <td>94.0</td>\n",
       "      <td>417.0</td>\n",
       "      <td>73.0</td>\n",
       "      <td>25.0</td>\n",
       "      <td>119.0</td>\n",
       "      <td>84.0</td>\n",
       "    </tr>\n",
       "    <tr>\n",
       "      <th>NeilUKIP</th>\n",
       "      <td>24.0</td>\n",
       "      <td>423.0</td>\n",
       "      <td>77.0</td>\n",
       "      <td>28.0</td>\n",
       "      <td>116.0</td>\n",
       "      <td>315.0</td>\n",
       "    </tr>\n",
       "  </tbody>\n",
       "</table>\n",
       "</div>"
      ],
      "text/plain": [
       "                 screen_name  rt_from_screen_name  rt_qt  direct_qt  \\\n",
       "OhBrokenBritain         76.0               1313.0   25.0        7.0   \n",
       "TradBritGroup           94.0                417.0   73.0       25.0   \n",
       "NeilUKIP                24.0                423.0   77.0       28.0   \n",
       "\n",
       "                 in_reply_to_screen_name  direct_mentions  \n",
       "OhBrokenBritain                    289.0            262.0  \n",
       "TradBritGroup                      119.0             84.0  \n",
       "NeilUKIP                           116.0            315.0  "
      ]
     },
     "execution_count": 14,
     "metadata": {},
     "output_type": "execute_result"
    }
   ],
   "source": [
    "stream_count"
   ]
  },
  {
   "cell_type": "code",
   "execution_count": 15,
   "metadata": {},
   "outputs": [
    {
     "name": "stdout",
     "output_type": "stream",
     "text": [
      "Total tweets collected:  564\n",
      "tweets by seed users:  0\n",
      "Self retweets:  0\n",
      "Retweets:  564\n",
      "Retweeted quotes:  0\n",
      "Direct quotes:  0\n",
      "Replies:  0\n",
      "Direct mentions:  0\n",
      "Direct qt mentions:  0\n"
     ]
    }
   ],
   "source": [
    "print(\"Total tweets collected: \",len(missing_tweets))\n",
    "print(\"tweets by seed users: \",len(missing_tweets[missing_tweets.screen_name.isin(users)]))\n",
    "print(\"Self retweets: \",len(missing_tweets[(missing_tweets.rt_from_screen_name.isin(users))&(missing_tweets.screen_name.isin(users))]))\n",
    "print(\"Retweets: \",len(missing_tweets[(missing_tweets.rt_from_screen_name.isin(users))&~(missing_tweets.screen_name.isin(users))]))\n",
    "print(\"Retweeted quotes: \",len(missing_tweets[(missing_tweets.qt_from_screen_name.isin(users)) & missing_tweets.rt_from_screen_name.notna()]))\n",
    "print(\"Direct quotes: \",len(missing_tweets[(missing_tweets.qt_from_screen_name.isin(users)) & missing_tweets.rt_from_screen_name.isna()]))\n",
    "print(\"Replies: \",len(missing_tweets[(missing_tweets.in_reply_to_screen_name.isin(users)) & (missing_tweets.rt_from_screen_name.isna())]))\n",
    "print(\"Direct mentions: \", len(missing_tweets[(missing_tweets.direct_mentions.isin(users))]))\n",
    "print(\"Direct qt mentions: \", len(missing_tweets[(missing_tweets.direct_qt_mentions.isin(users))]))"
   ]
  },
  {
   "cell_type": "code",
   "execution_count": 16,
   "metadata": {},
   "outputs": [
    {
     "name": "stdout",
     "output_type": "stream",
     "text": [
      "Total tweets collected:  3820\n",
      "tweets by seed users:  194\n",
      "Self retweets:  23\n",
      "Retweets:  2130\n",
      "Retweeted quotes:  175\n",
      "Direct quotes:  60\n",
      "Replies:  524\n",
      "Direct mentions:  661\n",
      "Direct qt mentions:  29\n"
     ]
    }
   ],
   "source": [
    "print(\"Total tweets collected: \",len(stream))\n",
    "print(\"tweets by seed users: \",len(stream[stream.screen_name.isin(users)]))\n",
    "print(\"Self retweets: \",len(stream[(stream.rt_from_screen_name.isin(users))&(stream.screen_name.isin(users))]))\n",
    "print(\"Retweets: \",len(stream[(stream.rt_from_screen_name.isin(users))&~(stream.screen_name.isin(users))]))\n",
    "print(\"Retweeted quotes: \",len(stream[(stream.qt_from_screen_name.isin(users)) & stream.rt_from_screen_name.notna()]))\n",
    "print(\"Direct quotes: \",len(stream[(stream.qt_from_screen_name.isin(users)) & stream.rt_from_screen_name.isna()]))\n",
    "print(\"Replies: \",len(stream[(stream.in_reply_to_screen_name.isin(users)) & (stream.rt_from_screen_name.isna())]))\n",
    "print(\"Direct mentions: \", len(stream[(stream.direct_mentions.isin(users))]))\n",
    "print(\"Direct qt mentions: \", len(stream[(stream.direct_qt_mentions.isin(users))]))"
   ]
  },
  {
   "cell_type": "markdown",
   "metadata": {},
   "source": [
    "## Up to 24% missing retweets"
   ]
  },
  {
   "cell_type": "code",
   "execution_count": 18,
   "metadata": {},
   "outputs": [
    {
     "data": {
      "text/html": [
       "<div>\n",
       "<style scoped>\n",
       "    .dataframe tbody tr th:only-of-type {\n",
       "        vertical-align: middle;\n",
       "    }\n",
       "\n",
       "    .dataframe tbody tr th {\n",
       "        vertical-align: top;\n",
       "    }\n",
       "\n",
       "    .dataframe thead th {\n",
       "        text-align: right;\n",
       "    }\n",
       "</style>\n",
       "<table border=\"1\" class=\"dataframe\">\n",
       "  <thead>\n",
       "    <tr style=\"text-align: right;\">\n",
       "      <th></th>\n",
       "      <th>screen_name</th>\n",
       "      <th>rt_from_screen_name</th>\n",
       "      <th>rt_qt</th>\n",
       "      <th>direct_qt</th>\n",
       "      <th>in_reply_to_screen_name</th>\n",
       "      <th>direct_mentions</th>\n",
       "    </tr>\n",
       "  </thead>\n",
       "  <tbody>\n",
       "    <tr>\n",
       "      <th>OhBrokenBritain</th>\n",
       "      <td>0.0</td>\n",
       "      <td>0.244099</td>\n",
       "      <td>0.0</td>\n",
       "      <td>0.0</td>\n",
       "      <td>0.0</td>\n",
       "      <td>0.0</td>\n",
       "    </tr>\n",
       "    <tr>\n",
       "      <th>TradBritGroup</th>\n",
       "      <td>0.0</td>\n",
       "      <td>0.036952</td>\n",
       "      <td>0.0</td>\n",
       "      <td>0.0</td>\n",
       "      <td>0.0</td>\n",
       "      <td>0.0</td>\n",
       "    </tr>\n",
       "    <tr>\n",
       "      <th>NeilUKIP</th>\n",
       "      <td>0.0</td>\n",
       "      <td>0.226691</td>\n",
       "      <td>0.0</td>\n",
       "      <td>0.0</td>\n",
       "      <td>0.0</td>\n",
       "      <td>0.0</td>\n",
       "    </tr>\n",
       "  </tbody>\n",
       "</table>\n",
       "</div>"
      ],
      "text/plain": [
       "                 screen_name  rt_from_screen_name  rt_qt  direct_qt  \\\n",
       "OhBrokenBritain          0.0             0.244099    0.0        0.0   \n",
       "TradBritGroup            0.0             0.036952    0.0        0.0   \n",
       "NeilUKIP                 0.0             0.226691    0.0        0.0   \n",
       "\n",
       "                 in_reply_to_screen_name  direct_mentions  \n",
       "OhBrokenBritain                      0.0              0.0  \n",
       "TradBritGroup                        0.0              0.0  \n",
       "NeilUKIP                             0.0              0.0  "
      ]
     },
     "execution_count": 18,
     "metadata": {},
     "output_type": "execute_result"
    }
   ],
   "source": [
    "# Percent of each category that we are missing\n",
    "missing_count.fillna(0).div(missing_count.fillna(0) + stream_count)"
   ]
  },
  {
   "cell_type": "code",
   "execution_count": 19,
   "metadata": {},
   "outputs": [],
   "source": [
    "total_tweets = pd.concat([stream,missing_tweets]).reset_index(drop=True)\n",
    "total_tweets['missing'] = total_tweets['missing'].fillna('collected')\n",
    "total_tweets['day'] = pd.DatetimeIndex(total_tweets['datetime']).day\n",
    "total_tweets['hour'] = pd.DatetimeIndex(total_tweets['datetime']).hour"
   ]
  },
  {
   "cell_type": "markdown",
   "metadata": {},
   "source": [
    "## Doesn't seem to respond to particular days/times, neither to specific users or tweets"
   ]
  },
  {
   "cell_type": "code",
   "execution_count": 20,
   "metadata": {
    "scrolled": true
   },
   "outputs": [
    {
     "data": {
      "text/plain": [
       "<matplotlib.axes._subplots.AxesSubplot at 0x11d146110>"
      ]
     },
     "execution_count": 20,
     "metadata": {},
     "output_type": "execute_result"
    },
    {
     "data": {
      "image/png": "[encoded data removed]",
      "text/plain": [
       "<Figure size 576x432 with 1 Axes>"
      ]
     },
     "metadata": {
      "needs_background": "light"
     },
     "output_type": "display_data"
    }
   ],
   "source": [
    "fig, ax = plt.subplots(figsize=(8,6))\n",
    "total_tweets.groupby(['day','missing']).count()['id'].unstack().plot(ax=ax)"
   ]
  },
  {
   "cell_type": "code",
   "execution_count": 21,
   "metadata": {},
   "outputs": [
    {
     "data": {
      "text/plain": [
       "<matplotlib.axes._subplots.AxesSubplot at 0x11daa5190>"
      ]
     },
     "execution_count": 21,
     "metadata": {},
     "output_type": "execute_result"
    },
    {
     "data": {
      "image/png": "[encoded data removed]",
      "text/plain": [
       "<Figure size 576x432 with 1 Axes>"
      ]
     },
     "metadata": {
      "needs_background": "light"
     },
     "output_type": "display_data"
    }
   ],
   "source": [
    "fig, ax = plt.subplots(figsize=(8,6))\n",
    "total_tweets.groupby(['hour','missing']).count()['id'].unstack().plot(ax=ax)"
   ]
  },
  {
   "cell_type": "code",
   "execution_count": null,
   "metadata": {},
   "outputs": [],
   "source": []
  }
 ],
 "metadata": {
  "kernelspec": {
   "display_name": "Python 3",
   "language": "python",
   "name": "python3"
  },
  "language_info": {
   "codemirror_mode": {
    "name": "ipython",
    "version": 3
   },
   "file_extension": ".py",
   "mimetype": "text/x-python",
   "name": "python",
   "nbconvert_exporter": "python",
   "pygments_lexer": "ipython3",
   "version": "3.7.6"
  }
 },
 "nbformat": 4,
 "nbformat_minor": 2
}
