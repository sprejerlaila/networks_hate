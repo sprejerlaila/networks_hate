{
 "cells": [
  {
   "cell_type": "code",
   "execution_count": 31,
   "metadata": {},
   "outputs": [],
   "source": [
    "import tweepy\n",
    "import sys\n",
    "import json\n",
    "import time\n",
    "import pandas as pd\n",
    "import requests\n",
    "from requests_oauthlib import OAuth1\n",
    "import datetime as dt\n",
    "import importlib\n",
    "import matplotlib.pyplot as plt\n",
    "\n",
    "import structure_tweets"
   ]
  },
  {
   "cell_type": "code",
   "execution_count": 26,
   "metadata": {},
   "outputs": [],
   "source": [
    "users = pd.read_csv('seed_users.csv').users.values"
   ]
  },
  {
   "cell_type": "code",
   "execution_count": 64,
   "metadata": {},
   "outputs": [],
   "source": [
    "with open('data/seed_tweets/seed_tweets_200501.json') as json_data:\n",
    "    stream = json_data.readlines()\n",
    "stream = structure_tweets.structure_results(stream)"
   ]
  },
  {
   "cell_type": "code",
   "execution_count": 65,
   "metadata": {},
   "outputs": [
    {
     "data": {
      "text/html": [
       "<div>\n",
       "<style scoped>\n",
       "    .dataframe tbody tr th:only-of-type {\n",
       "        vertical-align: middle;\n",
       "    }\n",
       "\n",
       "    .dataframe tbody tr th {\n",
       "        vertical-align: top;\n",
       "    }\n",
       "\n",
       "    .dataframe thead th {\n",
       "        text-align: right;\n",
       "    }\n",
       "</style>\n",
       "<table border=\"1\" class=\"dataframe\">\n",
       "  <thead>\n",
       "    <tr style=\"text-align: right;\">\n",
       "      <th></th>\n",
       "      <th>id</th>\n",
       "      <th>screen_name</th>\n",
       "      <th>text</th>\n",
       "      <th>rt_from_screen_name</th>\n",
       "      <th>qt_from_screen_name</th>\n",
       "      <th>qt_status</th>\n",
       "      <th>in_reply_to_screen_name</th>\n",
       "      <th>in_reply_to_status</th>\n",
       "      <th>mentions</th>\n",
       "      <th>datetime</th>\n",
       "    </tr>\n",
       "  </thead>\n",
       "  <tbody>\n",
       "    <tr>\n",
       "      <th>0</th>\n",
       "      <td>1256012150050603008</td>\n",
       "      <td>paulderby11</td>\n",
       "      <td>Who wants to pay for the EU debts? Corbyn? Bre...</td>\n",
       "      <td>OhBrokenBritain</td>\n",
       "      <td>None</td>\n",
       "      <td>None</td>\n",
       "      <td>None</td>\n",
       "      <td>NaN</td>\n",
       "      <td>{}</td>\n",
       "      <td>2020-05-01 00:06:46</td>\n",
       "    </tr>\n",
       "    <tr>\n",
       "      <th>1</th>\n",
       "      <td>1256014203879591941</td>\n",
       "      <td>maca_13_9</td>\n",
       "      <td>We want OUT. They want us IN to keep taking ou...</td>\n",
       "      <td>OhBrokenBritain</td>\n",
       "      <td>None</td>\n",
       "      <td>None</td>\n",
       "      <td>None</td>\n",
       "      <td>NaN</td>\n",
       "      <td>{}</td>\n",
       "      <td>2020-05-01 00:14:56</td>\n",
       "    </tr>\n",
       "    <tr>\n",
       "      <th>2</th>\n",
       "      <td>1256038046421733377</td>\n",
       "      <td>AbuWudu</td>\n",
       "      <td>@OhBrokenBritain @theUKtoday @10DowningStreet ...</td>\n",
       "      <td>None</td>\n",
       "      <td>None</td>\n",
       "      <td>None</td>\n",
       "      <td>OhBrokenBritain</td>\n",
       "      <td>1.255915e+18</td>\n",
       "      <td>{10DowningStreet, theUKtoday, OhBrokenBritain}</td>\n",
       "      <td>2020-05-01 01:49:40</td>\n",
       "    </tr>\n",
       "    <tr>\n",
       "      <th>3</th>\n",
       "      <td>1256039782532222977</td>\n",
       "      <td>JonnyVamExplore</td>\n",
       "      <td>Who wants to pay for the EU debts? Corbyn? Bre...</td>\n",
       "      <td>OhBrokenBritain</td>\n",
       "      <td>None</td>\n",
       "      <td>None</td>\n",
       "      <td>None</td>\n",
       "      <td>NaN</td>\n",
       "      <td>{}</td>\n",
       "      <td>2020-05-01 01:56:34</td>\n",
       "    </tr>\n",
       "    <tr>\n",
       "      <th>4</th>\n",
       "      <td>1256043493769830400</td>\n",
       "      <td>_ChelseaProject</td>\n",
       "      <td>@TradBritGroup Quisling</td>\n",
       "      <td>None</td>\n",
       "      <td>None</td>\n",
       "      <td>None</td>\n",
       "      <td>TradBritGroup</td>\n",
       "      <td>1.254033e+18</td>\n",
       "      <td>{TradBritGroup}</td>\n",
       "      <td>2020-05-01 02:11:19</td>\n",
       "    </tr>\n",
       "  </tbody>\n",
       "</table>\n",
       "</div>"
      ],
      "text/plain": [
       "                    id      screen_name  \\\n",
       "0  1256012150050603008      paulderby11   \n",
       "1  1256014203879591941        maca_13_9   \n",
       "2  1256038046421733377          AbuWudu   \n",
       "3  1256039782532222977  JonnyVamExplore   \n",
       "4  1256043493769830400  _ChelseaProject   \n",
       "\n",
       "                                                text rt_from_screen_name  \\\n",
       "0  Who wants to pay for the EU debts? Corbyn? Bre...     OhBrokenBritain   \n",
       "1  We want OUT. They want us IN to keep taking ou...     OhBrokenBritain   \n",
       "2  @OhBrokenBritain @theUKtoday @10DowningStreet ...                None   \n",
       "3  Who wants to pay for the EU debts? Corbyn? Bre...     OhBrokenBritain   \n",
       "4                            @TradBritGroup Quisling                None   \n",
       "\n",
       "  qt_from_screen_name qt_status in_reply_to_screen_name  in_reply_to_status  \\\n",
       "0                None      None                    None                 NaN   \n",
       "1                None      None                    None                 NaN   \n",
       "2                None      None         OhBrokenBritain        1.255915e+18   \n",
       "3                None      None                    None                 NaN   \n",
       "4                None      None           TradBritGroup        1.254033e+18   \n",
       "\n",
       "                                         mentions             datetime  \n",
       "0                                              {}  2020-05-01 00:06:46  \n",
       "1                                              {}  2020-05-01 00:14:56  \n",
       "2  {10DowningStreet, theUKtoday, OhBrokenBritain}  2020-05-01 01:49:40  \n",
       "3                                              {}  2020-05-01 01:56:34  \n",
       "4                                 {TradBritGroup}  2020-05-01 02:11:19  "
      ]
     },
     "execution_count": 65,
     "metadata": {},
     "output_type": "execute_result"
    }
   ],
   "source": [
    "stream.head()"
   ]
  },
  {
   "cell_type": "code",
   "execution_count": 78,
   "metadata": {},
   "outputs": [
    {
     "name": "stdout",
     "output_type": "stream",
     "text": [
      "Tweets collected:  503\n",
      "Tweets by seed users:  28\n",
      "Retweets:  380\n",
      "Quoted:  19\n",
      "Replies:  98\n"
     ]
    }
   ],
   "source": [
    "print(\"Tweets collected: \",len(stream))\n",
    "print(\"Tweets by seed users: \",len(stream[stream.screen_name.isin(users)]))\n",
    "print(\"Retweets: \",len(stream[stream.rt_from_screen_name.notna()]))\n",
    "print(\"Quoted: \",len(stream[(stream.qt_from_screen_name.notna()) & stream.rt_from_screen_name.isna()]))\n",
    "print(\"Replies: \",len(stream[stream.in_reply_to_screen_name.notna()]))"
   ]
  },
  {
   "cell_type": "code",
   "execution_count": 79,
   "metadata": {},
   "outputs": [
    {
     "data": {
      "text/plain": [
       "<matplotlib.axes._subplots.AxesSubplot at 0x125671390>"
      ]
     },
     "execution_count": 79,
     "metadata": {},
     "output_type": "execute_result"
    },
    {
     "data": {
      "image/png": "[encoded data removed]",
      "text/plain": [
       "<Figure size 432x288 with 1 Axes>"
      ]
     },
     "metadata": {
      "needs_background": "light"
     },
     "output_type": "display_data"
    }
   ],
   "source": [
    "(stream[stream.screen_name.isin(users)][['screen_name','id']]\n",
    "                            .groupby('screen_name')\n",
    "                            .count()\n",
    "                            .plot(kind='barh', title='Number of tweets written by seed users'))"
   ]
  },
  {
   "cell_type": "code",
   "execution_count": 67,
   "metadata": {},
   "outputs": [
    {
     "data": {
      "text/plain": [
       "<matplotlib.axes._subplots.AxesSubplot at 0x1259581d0>"
      ]
     },
     "execution_count": 67,
     "metadata": {},
     "output_type": "execute_result"
    },
    {
     "data": {
      "image/png": "[encoded data removed]",
      "text/plain": [
       "<Figure size 432x288 with 1 Axes>"
      ]
     },
     "metadata": {
      "needs_background": "light"
     },
     "output_type": "display_data"
    }
   ],
   "source": [
    "(stream[stream.rt_from_screen_name.isin(users)][['rt_from_screen_name','id']]\n",
    "                            .groupby('rt_from_screen_name')\n",
    "                            .count()\n",
    "                            .plot(kind='barh', title='Number of retweets'))"
   ]
  },
  {
   "cell_type": "code",
   "execution_count": 70,
   "metadata": {},
   "outputs": [
    {
     "data": {
      "text/plain": [
       "<matplotlib.axes._subplots.AxesSubplot at 0x12487ebd0>"
      ]
     },
     "execution_count": 70,
     "metadata": {},
     "output_type": "execute_result"
    },
    {
     "data": {
      "image/png": "[encoded data removed]",
      "text/plain": [
       "<Figure size 432x288 with 1 Axes>"
      ]
     },
     "metadata": {
      "needs_background": "light"
     },
     "output_type": "display_data"
    }
   ],
   "source": [
    "(stream[(stream.qt_from_screen_name.isin(users)) & (stream.rt_from_screen_name.isna())][['qt_from_screen_name','id']]\n",
    "                            .groupby('qt_from_screen_name')\n",
    "                            .count()\n",
    "                            .plot(kind='barh', title='Number of quoted tweets'))"
   ]
  },
  {
   "cell_type": "code",
   "execution_count": 73,
   "metadata": {},
   "outputs": [
    {
     "data": {
      "text/plain": [
       "<matplotlib.axes._subplots.AxesSubplot at 0x125769690>"
      ]
     },
     "execution_count": 73,
     "metadata": {},
     "output_type": "execute_result"
    },
    {
     "data": {
      "image/png": "[encoded data removed]",
      "text/plain": [
       "<Figure size 432x288 with 1 Axes>"
      ]
     },
     "metadata": {
      "needs_background": "light"
     },
     "output_type": "display_data"
    }
   ],
   "source": [
    "(stream[stream.in_reply_to_screen_name.isin(users)]\n",
    "                            [['in_reply_to_screen_name','id']]\n",
    "                            .groupby('in_reply_to_screen_name')\n",
    "                            .count()\n",
    "                            .plot(kind='barh', title='Direct replies of retweets'))"
   ]
  }
 ],
 "metadata": {
  "kernelspec": {
   "display_name": "Python 3",
   "language": "python",
   "name": "python3"
  },
  "language_info": {
   "codemirror_mode": {
    "name": "ipython",
    "version": 3
   },
   "file_extension": ".py",
   "mimetype": "text/x-python",
   "name": "python",
   "nbconvert_exporter": "python",
   "pygments_lexer": "ipython3",
   "version": "3.7.6"
  }
 },
 "nbformat": 4,
 "nbformat_minor": 4
}
