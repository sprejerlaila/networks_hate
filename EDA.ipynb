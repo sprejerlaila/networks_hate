{
 "cells": [
  {
   "cell_type": "code",
   "execution_count": 3,
   "metadata": {},
   "outputs": [],
   "source": [
    "import tweepy\n",
    "import sys\n",
    "import json\n",
    "import time\n",
    "import pandas as pd\n",
    "import numpy as np\n",
    "import requests\n",
    "from requests_oauthlib import OAuth1\n",
    "import datetime as dt\n",
    "import importlib\n",
    "import matplotlib.pyplot as plt\n",
    "\n",
    "import process_tweets"
   ]
  },
  {
   "cell_type": "code",
   "execution_count": 4,
   "metadata": {},
   "outputs": [],
   "source": [
    "users = pd.read_csv('data/seed_users.csv').screen_name.values"
   ]
  },
  {
   "cell_type": "markdown",
   "metadata": {},
   "source": [
    "# Tweets from 10-16 may (stream + rest)\n",
    "### Users: NeilUKIP, TradBritGroup, OhBrokenBritain"
   ]
  },
  {
   "cell_type": "code",
   "execution_count": 5,
   "metadata": {},
   "outputs": [],
   "source": [
    "stream_list = []\n",
    "for i in range(10,17):\n",
    "    with open('data/raw/seed_tweets/stream_tweets_2005%i.json'%i) as json_data:\n",
    "        stream = json_data.readlines()\n",
    "        stream = process_tweets.tidy_tweets(stream)\n",
    "        stream_list.append(stream)\n",
    "        \n",
    "stream = pd.concat(stream_list).reset_index(drop=True)"
   ]
  },
  {
   "cell_type": "code",
   "execution_count": 6,
   "metadata": {},
   "outputs": [],
   "source": [
    "rest_list = []\n",
    "for i in range(10,17):\n",
    "    with open('data/raw/seed_tweets/rest_tweets_2005%i.json'%i) as json_data:\n",
    "        rest = json_data.readlines()\n",
    "        rest = process_tweets.tidy_tweets(rest)\n",
    "        rest_list.append(rest)\n",
    "        \n",
    "rest = pd.concat(rest_list).reset_index(drop=True).drop_duplicates(\"id\")\n",
    "rest.datetime = pd.to_datetime(rest.datetime)"
   ]
  },
  {
   "cell_type": "code",
   "execution_count": 7,
   "metadata": {},
   "outputs": [],
   "source": [
    "tweets = pd.concat([stream,rest[~rest.id.isin(stream.id)]]).reset_index(drop=True)"
   ]
  },
  {
   "cell_type": "code",
   "execution_count": 8,
   "metadata": {},
   "outputs": [
    {
     "data": {
      "text/plain": [
       "3820"
      ]
     },
     "execution_count": 8,
     "metadata": {},
     "output_type": "execute_result"
    }
   ],
   "source": [
    "len(stream)"
   ]
  },
  {
   "cell_type": "code",
   "execution_count": 9,
   "metadata": {},
   "outputs": [
    {
     "data": {
      "text/plain": [
       "4384"
      ]
     },
     "execution_count": 9,
     "metadata": {},
     "output_type": "execute_result"
    }
   ],
   "source": [
    "len(tweets)"
   ]
  },
  {
   "cell_type": "code",
   "execution_count": 10,
   "metadata": {},
   "outputs": [],
   "source": [
    "tweets['seed_mentions']=tweets.mentions.apply(lambda x: [u for u in users if u in x])\n",
    "tweets['seed_mentions']=tweets['seed_mentions'].apply(lambda x: x[0] if len(x)>0 else \"\")\n",
    "tweets['seed_qt_mentions'] = tweets.qt_status.apply(lambda x: \"-\" if x is None else x)\n",
    "tweets['seed_qt_mentions'] = tweets['seed_qt_mentions'].apply(lambda x: [u for u in users if u in x])\n",
    "tweets['seed_qt_mentions'] = tweets['seed_qt_mentions'].apply(lambda x: x[0] if len(x) > 0 else \"\")\n",
    "\n",
    "tweets.loc[(tweets['rt_from_screen_name'].isna()) & (tweets['qt_from_screen_name'].notna()), 'direct_qt'] = tweets['qt_from_screen_name']\n",
    "tweets.loc[(tweets['rt_from_screen_name'].notna()) & (tweets['qt_from_screen_name'].notna()), 'rt_qt'] = tweets['qt_from_screen_name']\n",
    "tweets.loc[~(tweets['rt_from_screen_name'].isin(users)) & ~(tweets['qt_from_screen_name'].isin(users)) & ~(tweets['in_reply_to_screen_name'].isin(users)), 'direct_mentions'] = tweets['seed_mentions']\n",
    "tweets.loc[~(tweets['rt_from_screen_name'].isin(users)) & ~(tweets['qt_from_screen_name'].isin(users)) & ~(tweets['in_reply_to_screen_name'].isin(users)) & ~(tweets['direct_mentions'].isin(users)), 'direct_qt_mentions'] = tweets['seed_qt_mentions']"
   ]
  },
  {
   "cell_type": "code",
   "execution_count": 11,
   "metadata": {},
   "outputs": [
    {
     "data": {
      "text/html": [
       "<div>\n",
       "<style scoped>\n",
       "    .dataframe tbody tr th:only-of-type {\n",
       "        vertical-align: middle;\n",
       "    }\n",
       "\n",
       "    .dataframe tbody tr th {\n",
       "        vertical-align: top;\n",
       "    }\n",
       "\n",
       "    .dataframe thead th {\n",
       "        text-align: right;\n",
       "    }\n",
       "</style>\n",
       "<table border=\"1\" class=\"dataframe\">\n",
       "  <thead>\n",
       "    <tr style=\"text-align: right;\">\n",
       "      <th></th>\n",
       "      <th>id</th>\n",
       "      <th>screen_name</th>\n",
       "      <th>user_id</th>\n",
       "      <th>text</th>\n",
       "      <th>rt_from_screen_name</th>\n",
       "      <th>rt_from_id</th>\n",
       "      <th>qt_from_screen_name</th>\n",
       "      <th>qt_status</th>\n",
       "      <th>in_reply_to_screen_name</th>\n",
       "      <th>in_reply_to_status</th>\n",
       "      <th>mentions</th>\n",
       "      <th>datetime</th>\n",
       "      <th>seed_mentions</th>\n",
       "      <th>seed_qt_mentions</th>\n",
       "      <th>direct_qt</th>\n",
       "      <th>rt_qt</th>\n",
       "      <th>direct_mentions</th>\n",
       "      <th>direct_qt_mentions</th>\n",
       "    </tr>\n",
       "  </thead>\n",
       "  <tbody>\n",
       "    <tr>\n",
       "      <th>0</th>\n",
       "      <td>1259273169782931465</td>\n",
       "      <td>Rankbrexiteer41</td>\n",
       "      <td>1166735084650717185</td>\n",
       "      <td>Ann’s got the balls! Don't do it Boris! Ann Wi...</td>\n",
       "      <td>OhBrokenBritain</td>\n",
       "      <td>1.259171e+18</td>\n",
       "      <td>None</td>\n",
       "      <td>None</td>\n",
       "      <td>None</td>\n",
       "      <td>NaN</td>\n",
       "      <td>{OhBrokenBritain}</td>\n",
       "      <td>2020-05-10 00:04:54</td>\n",
       "      <td>OhBrokenBritain</td>\n",
       "      <td></td>\n",
       "      <td>NaN</td>\n",
       "      <td>NaN</td>\n",
       "      <td>NaN</td>\n",
       "      <td>NaN</td>\n",
       "    </tr>\n",
       "    <tr>\n",
       "      <th>1</th>\n",
       "      <td>1259275149934764037</td>\n",
       "      <td>gasgastony</td>\n",
       "      <td>1861847768</td>\n",
       "      <td>Britain needs some good news and here it is: F...</td>\n",
       "      <td>OhBrokenBritain</td>\n",
       "      <td>1.259030e+18</td>\n",
       "      <td>None</td>\n",
       "      <td>None</td>\n",
       "      <td>None</td>\n",
       "      <td>NaN</td>\n",
       "      <td>{}</td>\n",
       "      <td>2020-05-10 00:12:46</td>\n",
       "      <td></td>\n",
       "      <td></td>\n",
       "      <td>NaN</td>\n",
       "      <td>NaN</td>\n",
       "      <td>NaN</td>\n",
       "      <td>NaN</td>\n",
       "    </tr>\n",
       "    <tr>\n",
       "      <th>2</th>\n",
       "      <td>1259277511319597056</td>\n",
       "      <td>ExForces1</td>\n",
       "      <td>4228172484</td>\n",
       "      <td>@patel4witham And @patel4witham is disrespecti...</td>\n",
       "      <td>OhBrokenBritain</td>\n",
       "      <td>1.258748e+18</td>\n",
       "      <td>None</td>\n",
       "      <td>None</td>\n",
       "      <td>None</td>\n",
       "      <td>NaN</td>\n",
       "      <td>{patel4witham}</td>\n",
       "      <td>2020-05-10 00:22:09</td>\n",
       "      <td></td>\n",
       "      <td></td>\n",
       "      <td>NaN</td>\n",
       "      <td>NaN</td>\n",
       "      <td>NaN</td>\n",
       "      <td>NaN</td>\n",
       "    </tr>\n",
       "    <tr>\n",
       "      <th>3</th>\n",
       "      <td>1259277907404492800</td>\n",
       "      <td>RobIves8</td>\n",
       "      <td>1046475072964300808</td>\n",
       "      <td>Ann’s got the balls! Don't do it Boris! Ann Wi...</td>\n",
       "      <td>OhBrokenBritain</td>\n",
       "      <td>1.259171e+18</td>\n",
       "      <td>None</td>\n",
       "      <td>None</td>\n",
       "      <td>None</td>\n",
       "      <td>NaN</td>\n",
       "      <td>{OhBrokenBritain}</td>\n",
       "      <td>2020-05-10 00:23:44</td>\n",
       "      <td>OhBrokenBritain</td>\n",
       "      <td></td>\n",
       "      <td>NaN</td>\n",
       "      <td>NaN</td>\n",
       "      <td>NaN</td>\n",
       "      <td>NaN</td>\n",
       "    </tr>\n",
       "    <tr>\n",
       "      <th>4</th>\n",
       "      <td>1259280641851523073</td>\n",
       "      <td>mark_the_god</td>\n",
       "      <td>2449686481</td>\n",
       "      <td>Ann’s got the balls! Don't do it Boris! Ann Wi...</td>\n",
       "      <td>OhBrokenBritain</td>\n",
       "      <td>1.259171e+18</td>\n",
       "      <td>None</td>\n",
       "      <td>None</td>\n",
       "      <td>None</td>\n",
       "      <td>NaN</td>\n",
       "      <td>{OhBrokenBritain}</td>\n",
       "      <td>2020-05-10 00:34:35</td>\n",
       "      <td>OhBrokenBritain</td>\n",
       "      <td></td>\n",
       "      <td>NaN</td>\n",
       "      <td>NaN</td>\n",
       "      <td>NaN</td>\n",
       "      <td>NaN</td>\n",
       "    </tr>\n",
       "  </tbody>\n",
       "</table>\n",
       "</div>"
      ],
      "text/plain": [
       "                    id      screen_name              user_id  \\\n",
       "0  1259273169782931465  Rankbrexiteer41  1166735084650717185   \n",
       "1  1259275149934764037       gasgastony           1861847768   \n",
       "2  1259277511319597056        ExForces1           4228172484   \n",
       "3  1259277907404492800         RobIves8  1046475072964300808   \n",
       "4  1259280641851523073     mark_the_god           2449686481   \n",
       "\n",
       "                                                text rt_from_screen_name  \\\n",
       "0  Ann’s got the balls! Don't do it Boris! Ann Wi...     OhBrokenBritain   \n",
       "1  Britain needs some good news and here it is: F...     OhBrokenBritain   \n",
       "2  @patel4witham And @patel4witham is disrespecti...     OhBrokenBritain   \n",
       "3  Ann’s got the balls! Don't do it Boris! Ann Wi...     OhBrokenBritain   \n",
       "4  Ann’s got the balls! Don't do it Boris! Ann Wi...     OhBrokenBritain   \n",
       "\n",
       "     rt_from_id qt_from_screen_name qt_status in_reply_to_screen_name  \\\n",
       "0  1.259171e+18                None      None                    None   \n",
       "1  1.259030e+18                None      None                    None   \n",
       "2  1.258748e+18                None      None                    None   \n",
       "3  1.259171e+18                None      None                    None   \n",
       "4  1.259171e+18                None      None                    None   \n",
       "\n",
       "   in_reply_to_status           mentions             datetime  \\\n",
       "0                 NaN  {OhBrokenBritain}  2020-05-10 00:04:54   \n",
       "1                 NaN                 {}  2020-05-10 00:12:46   \n",
       "2                 NaN     {patel4witham}  2020-05-10 00:22:09   \n",
       "3                 NaN  {OhBrokenBritain}  2020-05-10 00:23:44   \n",
       "4                 NaN  {OhBrokenBritain}  2020-05-10 00:34:35   \n",
       "\n",
       "     seed_mentions seed_qt_mentions direct_qt rt_qt direct_mentions  \\\n",
       "0  OhBrokenBritain                        NaN   NaN             NaN   \n",
       "1                                         NaN   NaN             NaN   \n",
       "2                                         NaN   NaN             NaN   \n",
       "3  OhBrokenBritain                        NaN   NaN             NaN   \n",
       "4  OhBrokenBritain                        NaN   NaN             NaN   \n",
       "\n",
       "  direct_qt_mentions  \n",
       "0                NaN  \n",
       "1                NaN  \n",
       "2                NaN  \n",
       "3                NaN  \n",
       "4                NaN  "
      ]
     },
     "execution_count": 11,
     "metadata": {},
     "output_type": "execute_result"
    }
   ],
   "source": [
    "tweets.head()"
   ]
  },
  {
   "cell_type": "code",
   "execution_count": 12,
   "metadata": {},
   "outputs": [
    {
     "name": "stdout",
     "output_type": "stream",
     "text": [
      "Total tweets collected:  4384\n",
      "Tweets by seed users:  194\n",
      "Self retweets:  23\n",
      "Retweets:  2694\n",
      "Retweeted quotes:  175\n",
      "Direct quotes:  60\n",
      "Replies:  524\n",
      "Direct mentions:  661\n",
      "Direct qt mentions:  29\n"
     ]
    }
   ],
   "source": [
    "print(\"Total tweets collected: \",len(tweets))\n",
    "print(\"Tweets by seed users: \",len(tweets[tweets.screen_name.isin(users)]))\n",
    "print(\"Self retweets: \",len(tweets[(tweets.rt_from_screen_name.isin(users))&(tweets.screen_name.isin(users))]))\n",
    "print(\"Retweets: \",len(tweets[(tweets.rt_from_screen_name.isin(users))&~(tweets.screen_name.isin(users))]))\n",
    "print(\"Retweeted quotes: \",len(tweets[(tweets.qt_from_screen_name.isin(users)) & tweets.rt_from_screen_name.notna()]))\n",
    "print(\"Direct quotes: \",len(tweets[(tweets.qt_from_screen_name.isin(users)) & tweets.rt_from_screen_name.isna()]))\n",
    "print(\"Replies: \",len(tweets[(tweets.in_reply_to_screen_name.isin(users)) & (tweets.rt_from_screen_name.isna())]))\n",
    "print(\"Direct mentions: \", len(tweets[(tweets.direct_mentions.isin(users))]))\n",
    "print(\"Direct qt mentions: \", len(tweets[(tweets.direct_qt_mentions.isin(users))]))"
   ]
  },
  {
   "cell_type": "code",
   "execution_count": null,
   "metadata": {},
   "outputs": [],
   "source": [
    "# <1%\n",
    "# The rest are quotes from quotes from our seed users, or\n",
    "# user_names that have in their description one of the seed_users or\n",
    "# Users that rt or qt users that have in their description one of the seed_users ex https://twitter.com/CymruUKIP/status/1258088102310154252"
   ]
  },
  {
   "cell_type": "markdown",
   "metadata": {},
   "source": [
    "## Tweets by seed users"
   ]
  },
  {
   "cell_type": "code",
   "execution_count": 13,
   "metadata": {},
   "outputs": [
    {
     "name": "stdout",
     "output_type": "stream",
     "text": [
      "194\n"
     ]
    }
   ],
   "source": [
    "tweets_by_seed = tweets[tweets.screen_name.isin(users)]; print(len(tweets_by_seed))"
   ]
  },
  {
   "cell_type": "code",
   "execution_count": 14,
   "metadata": {},
   "outputs": [],
   "source": [
    "counts = tweets_by_seed[['screen_name','rt_from_screen_name','rt_qt','direct_qt','in_reply_to_screen_name','direct_mentions']]\\\n",
    "                .apply(pd.Series.value_counts)\\\n",
    "                .loc[['OhBrokenBritain','TradBritGroup','NeilUKIP']]\n",
    "percentages = counts.div(counts.sum(axis=1), axis=0)\n",
    "counts = counts.reset_index()\n",
    "counts.columns = [\"screen_name\", \"seed_tweets\", \"retweets\", \"retweets_from_quotes\", \"quotes\", \"replies\",\"mentions\"]\n",
    "percentages = percentages.reset_index()\n",
    "percentages.columns = [\"screen_name\", \"seed_tweets\", \"retweets\", \"retweets_from_quotes\", \"quotes\", \"replies\",\"mentions\"]"
   ]
  },
  {
   "cell_type": "code",
   "execution_count": 15,
   "metadata": {},
   "outputs": [
    {
     "data": {
      "text/plain": [
       "<matplotlib.axes._subplots.AxesSubplot at 0x116597c90>"
      ]
     },
     "execution_count": 15,
     "metadata": {},
     "output_type": "execute_result"
    },
    {
     "data": {
      "image/png": "[encoded data removed]",
      "text/plain": [
       "<Figure size 1080x360 with 2 Axes>"
      ]
     },
     "metadata": {
      "needs_background": "light"
     },
     "output_type": "display_data"
    }
   ],
   "source": [
    "fig, axes = plt.subplots(ncols=2, figsize=(15, 5), sharey=True)\n",
    "counts.plot(x=\"screen_name\", y=[\"seed_tweets\", \"retweets\", \"retweets_from_quotes\", \"quotes\", \"replies\",'mentions'],\n",
    "            kind=\"barh\",\n",
    "            stacked=True,\n",
    "            title=\"Tweets by seed\",\n",
    "            ax=axes[0])\n",
    "\n",
    "percentages.plot(x=\"screen_name\", y=[\"seed_tweets\", \"retweets\", \"retweets_from_quotes\", \"quotes\", \"replies\",'mentions'],\n",
    "            kind=\"barh\",\n",
    "            stacked=True,\n",
    "            title=\"Tweets by seed\",\n",
    "            legend=False,\n",
    "            ax=axes[1])"
   ]
  },
  {
   "cell_type": "markdown",
   "metadata": {},
   "source": [
    "## Tweets by other users"
   ]
  },
  {
   "cell_type": "code",
   "execution_count": 16,
   "metadata": {},
   "outputs": [
    {
     "name": "stdout",
     "output_type": "stream",
     "text": [
      "4190\n"
     ]
    }
   ],
   "source": [
    "tweets_by_others = tweets[~tweets.screen_name.isin(users)]; print(len(tweets_by_others))"
   ]
  },
  {
   "cell_type": "code",
   "execution_count": 17,
   "metadata": {},
   "outputs": [],
   "source": [
    "counts = tweets_by_others[['screen_name','rt_from_screen_name','rt_qt','direct_qt','in_reply_to_screen_name','direct_mentions']]\\\n",
    "                .apply(pd.Series.value_counts)\\\n",
    "                .loc[['OhBrokenBritain','TradBritGroup','NeilUKIP']]\n",
    "percentages = counts.div(counts.sum(axis=1), axis=0)\n",
    "counts = counts.reset_index()\n",
    "counts.columns = [\"screen_name\", \"seed_tweets\", \"retweets\", \"retweets_from_quotes\", \"quotes\", \"replies\",\"mentions\"]\n",
    "percentages = percentages.reset_index()\n",
    "percentages.columns = [\"screen_name\", \"seed_tweets\", \"retweets\", \"retweets_from_quotes\", \"quotes\", \"replies\",\"mentions\"]"
   ]
  },
  {
   "cell_type": "code",
   "execution_count": 18,
   "metadata": {},
   "outputs": [
    {
     "data": {
      "text/plain": [
       "<matplotlib.axes._subplots.AxesSubplot at 0x1170d1a90>"
      ]
     },
     "execution_count": 18,
     "metadata": {},
     "output_type": "execute_result"
    },
    {
     "data": {
      "image/png": "[encoded data removed]",
      "text/plain": [
       "<Figure size 1080x360 with 2 Axes>"
      ]
     },
     "metadata": {
      "needs_background": "light"
     },
     "output_type": "display_data"
    }
   ],
   "source": [
    "fig, axes = plt.subplots(ncols=2, figsize=(15, 5), sharey=True)\n",
    "counts.plot(x=\"screen_name\", y=[\"seed_tweets\", \"retweets\", \"retweets_from_quotes\", \"quotes\", \"replies\",'mentions'],\n",
    "            kind=\"barh\",\n",
    "            stacked=True,\n",
    "            title=\"Tweets by others\",\n",
    "            ax=axes[0])\n",
    "\n",
    "percentages.plot(x=\"screen_name\", y=[\"seed_tweets\", \"retweets\", \"retweets_from_quotes\", \"quotes\", \"replies\",'mentions'],\n",
    "            kind=\"barh\",\n",
    "            stacked=True,\n",
    "            title=\"Tweets by others\",\n",
    "            legend=False,\n",
    "            ax=axes[1])"
   ]
  },
  {
   "cell_type": "code",
   "execution_count": null,
   "metadata": {},
   "outputs": [],
   "source": []
  },
  {
   "cell_type": "code",
   "execution_count": null,
   "metadata": {},
   "outputs": [],
   "source": []
  },
  {
   "cell_type": "code",
   "execution_count": null,
   "metadata": {},
   "outputs": [],
   "source": []
  },
  {
   "cell_type": "code",
   "execution_count": null,
   "metadata": {},
   "outputs": [],
   "source": []
  },
  {
   "cell_type": "code",
   "execution_count": 19,
   "metadata": {},
   "outputs": [
    {
     "data": {
      "text/plain": [
       "<matplotlib.axes._subplots.AxesSubplot at 0x117226810>"
      ]
     },
     "execution_count": 19,
     "metadata": {},
     "output_type": "execute_result"
    },
    {
     "data": {
      "image/png": "[encoded data removed]",
      "text/plain": [
       "<Figure size 432x288 with 1 Axes>"
      ]
     },
     "metadata": {
      "needs_background": "light"
     },
     "output_type": "display_data"
    }
   ],
   "source": [
    "(tweets[tweets.screen_name.isin(users)][['screen_name','id']]\n",
    "                            .groupby('screen_name')\n",
    "                            .count()\n",
    "                            .plot(kind='barh', title='Number of tweets written by seed users'))"
   ]
  },
  {
   "cell_type": "code",
   "execution_count": 20,
   "metadata": {},
   "outputs": [
    {
     "data": {
      "text/plain": [
       "<matplotlib.axes._subplots.AxesSubplot at 0x1173d0050>"
      ]
     },
     "execution_count": 20,
     "metadata": {},
     "output_type": "execute_result"
    },
    {
     "data": {
      "image/png": "[encoded data removed]",
      "text/plain": [
       "<Figure size 432x288 with 1 Axes>"
      ]
     },
     "metadata": {
      "needs_background": "light"
     },
     "output_type": "display_data"
    }
   ],
   "source": [
    "(tweets[tweets.rt_from_screen_name.isin(users)][['rt_from_screen_name','id']]\n",
    "                            .groupby('rt_from_screen_name')\n",
    "                            .count()\n",
    "                            .plot(kind='barh', title='Number of retweets'))"
   ]
  },
  {
   "cell_type": "code",
   "execution_count": 21,
   "metadata": {},
   "outputs": [
    {
     "data": {
      "text/plain": [
       "<matplotlib.axes._subplots.AxesSubplot at 0x11740fa50>"
      ]
     },
     "execution_count": 21,
     "metadata": {},
     "output_type": "execute_result"
    },
    {
     "data": {
      "image/png": "[encoded data removed]",
      "text/plain": [
       "<Figure size 432x288 with 1 Axes>"
      ]
     },
     "metadata": {
      "needs_background": "light"
     },
     "output_type": "display_data"
    }
   ],
   "source": [
    "(tweets[(tweets.qt_from_screen_name.isin(users)) & (tweets.rt_from_screen_name.isna())][['qt_from_screen_name','id']]\n",
    "                            .groupby('qt_from_screen_name')\n",
    "                            .count()\n",
    "                            .plot(kind='barh', title='Number of quoted tweets'))"
   ]
  },
  {
   "cell_type": "code",
   "execution_count": 22,
   "metadata": {},
   "outputs": [
    {
     "data": {
      "text/plain": [
       "<matplotlib.axes._subplots.AxesSubplot at 0x11763b8d0>"
      ]
     },
     "execution_count": 22,
     "metadata": {},
     "output_type": "execute_result"
    },
    {
     "data": {
      "image/png": "[encoded data removed]",
      "text/plain": [
       "<Figure size 432x288 with 1 Axes>"
      ]
     },
     "metadata": {
      "needs_background": "light"
     },
     "output_type": "display_data"
    }
   ],
   "source": [
    "(tweets[tweets.in_reply_to_screen_name.isin(users)]\n",
    "                            [['in_reply_to_screen_name','id']]\n",
    "                            .groupby('in_reply_to_screen_name')\n",
    "                            .count()\n",
    "                            .plot(kind='barh', title='Direct replies of retweets'))"
   ]
  },
  {
   "cell_type": "code",
   "execution_count": null,
   "metadata": {},
   "outputs": [],
   "source": []
  }
 ],
 "metadata": {
  "kernelspec": {
   "display_name": "Python 3",
   "language": "python",
   "name": "python3"
  },
  "language_info": {
   "codemirror_mode": {
    "name": "ipython",
    "version": 3
   },
   "file_extension": ".py",
   "mimetype": "text/x-python",
   "name": "python",
   "nbconvert_exporter": "python",
   "pygments_lexer": "ipython3",
   "version": "3.7.6"
  }
 },
 "nbformat": 4,
 "nbformat_minor": 4
}
